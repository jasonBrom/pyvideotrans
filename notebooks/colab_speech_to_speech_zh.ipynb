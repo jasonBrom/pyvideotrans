{
 "cells": [
  {
   "cell_type": "markdown",
   "metadata": {},
   "source": [
    "# 在 Google Colab 上运行 pyVideoTrans 语音转语音流程\n",
    "\n",
    "本 Notebook 将安装 pyVideoTrans 所需依赖，并演示如何在 Colab 中通过 **index-tts2** 克隆原说话人音色。建议先阅读 `docs/google_colab_s2s.md` 获取完整部署指南。"
   ]
  },
  {
   "cell_type": "markdown",
   "metadata": {},
   "source": [
    "## 1. 克隆仓库（每个会话运行一次）\n",
    "如果你已经在会话中下载过项目，可以跳过此步骤。"
   ]
  },
  {
   "cell_type": "code",
   "execution_count": null,
   "metadata": {},
   "outputs": [],
   "source": [
    "# 克隆仓库并切换到项目目录\n",
    "import os, sys, pathlib\n",
    "ROOT = pathlib.Path('/content/pyvideotrans')\n",
    "if not ROOT.exists():\n",
    "    !git clone https://github.com/jianchang512/pyvideotrans.git {ROOT}\n",
    "os.chdir(ROOT)\n",
    "sys.path.insert(0, str(ROOT))\n",
    "print('Working directory:', os.getcwd())"
   ]
  },
  {
   "cell_type": "markdown",
   "metadata": {},
   "source": [
    "## 2. 安装运行依赖\n",
    "安装 Colab 精简依赖集，其中包含适配 CUDA 12.1 的 Faster-Whisper。"
   ]
  },
  {
   "cell_type": "code",
   "execution_count": null,
   "metadata": {},
   "outputs": [],
   "source": [
    "# 安装 pyVideoTrans 在 Colab 运行所需的依赖\n",
    "!pip install -U pip\n",
    "!pip install -r requirements-colab.txt"
   ]
  },
  {
   "cell_type": "markdown",
   "metadata": {},
   "source": [
    "## 3. （可选）挂载 Google Drive\n",
    "如果希望直接从 Drive 读写文件，可取消注释并运行此单元。"
   ]
  },
  {
   "cell_type": "code",
   "execution_count": null,
   "metadata": {
    "tags": [
     "parameters"
    ]
   },
   "outputs": [],
   "source": [
    "# 取消注释后挂载 Google Drive\n",
    "# from google.colab import drive\n",
    "# drive.mount('/content/drive')"
   ]
  },
  {
   "cell_type": "markdown",
   "metadata": {},
   "source": [
    "## 4. 准备输入媒体\n",
    "可以通过 Colab 界面上传，也可以使用下面的示例代码从网络下载测试视频。"
   ]
  },
  {
   "cell_type": "code",
   "execution_count": null,
   "metadata": {},
   "outputs": [],
   "source": [
    "# 下载示例视频，或替换为自己的文件\n",
    "import pathlib, urllib.request, urllib.error\\n",
    "sample_dir = pathlib.Path('/content/media')\\n",
    "sample_dir.mkdir(parents=True, exist_ok=True)\\n",
    "sample_path = sample_dir / 'sample.mp4'\\n",
    "if not sample_path.exists():\\n",
    "    url = 'https://github.com/jianchang512/pyvideotrans/releases/download/v0.0/sample.mp4'\\n",
    "    try:\\n",
    "        urllib.request.urlretrieve(url, sample_path)\\n",
    "    except urllib.error.URLError:\\n",
    "        print('Download failed, please upload your own clip instead.')\\n",
    "sample_path"
   ]
  },
  {
   "cell_type": "markdown",
   "metadata": {},
   "source": [
    "## 5. 启动语音到语音翻译\n",
    "确保 `index-tts2` WebUI 可以被 Colab 访问（如通过 ngrok/cloudflared 暴露公网地址），然后设置目标语言及接口地址。"
   ]
  },
  {
   "cell_type": "code",
   "execution_count": null,
   "metadata": {},
   "outputs": [],
   "source": [
    "# 调用封装好的函数执行完整流程\n",
    "from colab_s2s import run_speech_to_speech\n",
    "result = run_speech_to_speech(\n",
    "    input_path=sample_path,\n",
    "    target_language='en',\n",
    "    index_tts_url='http://127.0.0.1:7860',  # replace with your public endpoint\n",
    "    whisper_model='large-v3',\n",
    "    translate_backend='google',\n",
    "    recognition_backend='faster-whisper',\n",
    "    separate_vocals=True,\n",
    "    voice_role='clone'\n",
    ")\n",
    "result"
   ]
  },
  {
   "cell_type": "markdown",
   "metadata": {},
   "source": [
    "生成的 `result` 字典会给出输出媒体和字幕的路径，可在 Colab 文件浏览器中下载或移动到 Drive。"
   ]
  },
  {
   "cell_type": "markdown",
   "metadata": {},
   "source": [
    "## 附：使用 gradio_client 快速验证 Index-TTS2 接口\n",
    "如果你部署了自建的 Index-TTS2 服务，可先运行下方示例确认连通性，再执行完整流程。"
   ]
  },
  {
   "cell_type": "code",
   "execution_count": null,
   "metadata": {},
   "outputs": [],
   "source": [
    "# 可选：使用 gradio_client 直接验证 Index-TTS2 是否可用\n",
    "# from gradio_client import Client, handle_file\n",
    "# client = Client(\"https://<your-indextts2-host>\")\n",
    "# preview = client.predict(\n",
    "#     emo_control_method=\"Same as the voice reference\",\n",
    "#     prompt=handle_file('/content/sample_ref.wav'),\n",
    "#     text=\"你好，这是一个测试片段。\",\n",
    "#     emo_ref_path=handle_file('/content/sample_ref.wav'),\n",
    "#     api_name=\"/gen_single\"\n",
    "# )\n",
    "# print(preview)\n"
   ]
  }
 ],
 "metadata": {
  "kernelspec": {
   "display_name": "Python 3",
   "language": "python",
   "name": "python3"
  },
  "language_info": {
   "name": "python",
   "version": "3.10"
  }
 },
 "nbformat": 4,
 "nbformat_minor": 5
}