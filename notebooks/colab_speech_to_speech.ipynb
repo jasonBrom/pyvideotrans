{
 "cells": [
  {
   "cell_type": "markdown",
   "metadata": {},
   "source": [
    "# pyVideoTrans Speech-to-Speech on Google Colab\n",
    "\n",
    "This notebook installs the pyVideoTrans toolkit, prepares runtime dependencies, and\n",
    "shows how to translate a video into a target language while cloning the original\n",
    "timbre through **index-tts2**."
   ]
  },
  {
   "cell_type": "markdown",
   "metadata": {},
   "source": [
    "## 1. Clone the repository (run once per session)\n",
    "If you already have a copy in your Colab environment you can skip this step."
   ]
  },
  {
   "cell_type": "code",
   "execution_count": null,
   "metadata": {},
   "outputs": [],
   "source": [
    "import os, sys, pathlib\n",
    "ROOT = pathlib.Path('/content/pyvideotrans')\n",
    "if not ROOT.exists():\n",
    "    !git clone https://github.com/jianchang512/pyvideotrans.git {ROOT}\n",
    "os.chdir(ROOT)\n",
    "sys.path.insert(0, str(ROOT))\n",
    "print('Working directory:', os.getcwd())"
   ]
  },
  {
   "cell_type": "markdown",
   "metadata": {},
   "source": [
    "## 2. Install runtime dependencies\n",
    "This installs the lightweight Colab dependency set (CUDA 12.1 wheels are used\n",
    "for Faster-Whisper)."
   ]
  },
  {
   "cell_type": "code",
   "execution_count": null,
   "metadata": {},
   "outputs": [],
   "source": [
    "!pip install -U pip\n",
    "!pip install -r requirements-colab.txt"
   ]
  },
  {
   "cell_type": "markdown",
   "metadata": {},
   "source": [
    "## 3. (Optional) Mount Google Drive\n",
    "Uncomment the cell below if you prefer to read/write media files from Drive."
   ]
  },
  {
   "cell_type": "code",
   "execution_count": null,
   "metadata": {
    "tags": [
     "parameters"
    ]
   },
   "outputs": [],
   "source": [
    "# from google.colab import drive\n",
    "# drive.mount('/content/drive')"
   ]
  },
  {
   "cell_type": "markdown",
   "metadata": {},
   "source": [
    "## 4. Provide an input clip\\n",
    "You can upload a file through the Colab UI or download one programmatically.\\n",
    "The example below downloads a short sample from GitHub."
   ]
  },
  {
   "cell_type": "code",
   "execution_count": null,
   "metadata": {},
   "outputs": [],
   "source": [
    "import pathlib, urllib.request, urllib.error\\n",
    "sample_dir = pathlib.Path('/content/media')\\n",
    "sample_dir.mkdir(parents=True, exist_ok=True)\\n",
    "sample_path = sample_dir / 'sample.mp4'\\n",
    "if not sample_path.exists():\\n",
    "    url = 'https://github.com/jianchang512/pyvideotrans/releases/download/v0.0/sample.mp4'\\n",
    "    try:\\n",
    "        urllib.request.urlretrieve(url, sample_path)\\n",
    "    except urllib.error.URLError:\\n",
    "        print('Download failed, please upload your own clip instead.')\\n",
    "sample_path"
   ]
  },
  {
   "cell_type": "markdown",
   "metadata": {},
   "source": [
    "## 5. Launch speech-to-speech translation\n",
    "Make sure your `index-tts2` web UI is reachable from Colab (for example via an\n",
    "ngrok/cloudflared tunnel).  Set the URL below along with your desired target\n",
    "language."
   ]
  },
  {
   "cell_type": "code",
   "execution_count": null,
   "metadata": {},
   "outputs": [],
   "source": [
    "from colab_s2s import run_speech_to_speech\n",
    "result = run_speech_to_speech(\n",
    "    input_path=sample_path,\n",
    "    target_language='en',\n",
    "    index_tts_url='http://127.0.0.1:7860',  # replace with your public endpoint\n",
    "    whisper_model='large-v3',\n",
    "    translate_backend='google',\n",
    "    recognition_backend='faster-whisper',\n",
    "    separate_vocals=True,\n",
    "    voice_role='clone'\n",
    ")\n",
    "result"
   ]
  },
  {
   "cell_type": "markdown",
   "metadata": {},
   "source": [
    "The dictionary reports where the translated media and subtitles were saved.\n",
    "You can download them through the Colab file browser or move them into\n",
    "Google Drive."
   ]
  }
 ],
 "metadata": {
  "kernelspec": {
   "display_name": "Python 3",
   "language": "python",
   "name": "python3"
  },
  "language_info": {
   "name": "python",
   "version": "3.10"
  }
 },
 "nbformat": 4,
 "nbformat_minor": 5
}